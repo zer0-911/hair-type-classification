{
 "cells": [
  {
   "cell_type": "markdown",
   "metadata": {},
   "source": [
    "## Import Libraries"
   ]
  },
  {
   "cell_type": "code",
   "execution_count": null,
   "metadata": {},
   "outputs": [],
   "source": [
    "# Import standard libraries\n",
    "import os\n",
    "import random\n",
    "import shutil\n",
    "import pathlib\n",
    "\n",
    "import pandas as pd\n",
    "import numpy as np\n",
    "from collections import defaultdict\n",
    "import ace_tools as tools\n",
    "\n",
    "# Import PIL for image processing\n",
    "from PIL import Image\n",
    "\n",
    "# Import matplotlib for plotting\n",
    "import matplotlib.pyplot as plt\n",
    "\n",
    "# Import TensorFlow and Keras libraries\n",
    "import tensorflow as tf\n",
    "from tensorflow.keras import layers, models, optimizers\n",
    "from tensorflow.keras.models import Sequential\n",
    "from tensorflow.keras.layers import Conv2D, MaxPooling2D, Flatten, Dropout, Dense, GlobalAveragePooling2D\n",
    "from tensorflow.keras.callbacks import ModelCheckpoint, EarlyStopping\n",
    "from tensorflow.keras.preprocessing.image import ImageDataGenerator\n",
    "from tensorflow.keras.applications import EfficientNetV2B0, MobileNetV2"
   ]
  },
  {
   "cell_type": "markdown",
   "metadata": {},
   "source": [
    "## Data Preparation"
   ]
  },
  {
   "cell_type": "code",
   "execution_count": null,
   "metadata": {},
   "outputs": [],
   "source": [
    "dataset_path = 'datasets/hair-type-dataset'\n",
    "subfolders = [f.name for f in os.scandir(dataset_path) if f.is_dir()]\n",
    "print(\"Subfolders (hair types):\", subfolders)"
   ]
  },
  {
   "cell_type": "markdown",
   "metadata": {},
   "source": [
    "Shows images and counts of each class in the dataset and the resolution of the images."
   ]
  },
  {
   "cell_type": "code",
   "execution_count": null,
   "metadata": {},
   "outputs": [],
   "source": [
    "# Dictionary to store image counts and resolutions\n",
    "image_info = {}\n",
    "\n",
    "# Loop through each subfolder\n",
    "for subfolder in subfolders:\n",
    "    folder_path = os.path.join(dataset_path, subfolder)\n",
    "    images_in_subfolder = [f for f in os.listdir(folder_path) if os.path.isfile(os.path.join(folder_path, f))]\n",
    "    \n",
    "    # Initialize counters for the number of images and resolution frequencies\n",
    "    num_images = len(images_in_subfolder)\n",
    "    resolution_count = defaultdict(int)  # Default dictionary to count occurrences of each resolution\n",
    "\n",
    "    # Process each image\n",
    "    for image_file in images_in_subfolder:\n",
    "        image_path = os.path.join(folder_path, image_file)\n",
    "        try:\n",
    "            with Image.open(image_path) as img:\n",
    "                width, height = img.size\n",
    "                resolution_count[(width, height)] += 1  # Increment the count for this resolution\n",
    "        except Exception as e:\n",
    "            print(f\"Error opening image {image_file}: {e}\")\n",
    "\n",
    "    # Store count of images and their resolution frequencies\n",
    "    image_info[subfolder] = {\n",
    "        \"num_images\": num_images,\n",
    "        \"resolution_count\": dict(resolution_count)  # Convert defaultdict to a regular dictionary\n",
    "    }\n",
    "\n",
    "# print the information for each subfolder\n",
    "for subfolder, info in image_info.items():\n",
    "    print(f\"Subfolder: {subfolder}\")\n",
    "    print(f\"Number of images: {info['num_images']}\")\n",
    "    print(\"Resolutions and counts:\")\n",
    "    for resolution, count in info['resolution_count'].items():\n",
    "        print(f\"  Resolution {resolution}: {count} image(s)\")\n",
    "    print()"
   ]
  },
  {
   "cell_type": "code",
   "execution_count": null,
   "metadata": {},
   "outputs": [],
   "source": [
    "# Create a dataframe to organize the results\n",
    "rows = []\n",
    "for subfolder, info in image_info.items():\n",
    "    for resolution, count in info['resolution_count'].items():\n",
    "        rows.append({\n",
    "            'Subfolder': subfolder,\n",
    "            'Resolution': f\"{resolution[0]}x{resolution[1]}\",\n",
    "            'Image Count': count\n",
    "        })\n",
    "\n",
    "df = pd.DataFrame(rows)\n",
    "\n",
    "# Display the dataframe\n",
    "tools.display_dataframe_to_user(name=\"Image Resolution and Count\", dataframe=df)"
   ]
  },
  {
   "cell_type": "code",
   "execution_count": null,
   "metadata": {},
   "outputs": [],
   "source": []
  }
 ],
 "metadata": {
  "language_info": {
   "name": "python"
  }
 },
 "nbformat": 4,
 "nbformat_minor": 2
}
