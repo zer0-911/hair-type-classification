{
 "cells": [
  {
   "cell_type": "markdown",
   "metadata": {},
   "source": [
    "## Import Libraries"
   ]
  },
  {
   "cell_type": "code",
   "execution_count": 3,
   "metadata": {},
   "outputs": [
    {
     "name": "stderr",
     "output_type": "stream",
     "text": [
      "2024-10-05 23:50:24.824630: I tensorflow/core/util/port.cc:153] oneDNN custom operations are on. You may see slightly different numerical results due to floating-point round-off errors from different computation orders. To turn them off, set the environment variable `TF_ENABLE_ONEDNN_OPTS=0`.\n",
      "2024-10-05 23:50:24.839872: E external/local_xla/xla/stream_executor/cuda/cuda_fft.cc:485] Unable to register cuFFT factory: Attempting to register factory for plugin cuFFT when one has already been registered\n",
      "2024-10-05 23:50:24.856075: E external/local_xla/xla/stream_executor/cuda/cuda_dnn.cc:8454] Unable to register cuDNN factory: Attempting to register factory for plugin cuDNN when one has already been registered\n",
      "2024-10-05 23:50:24.861136: E external/local_xla/xla/stream_executor/cuda/cuda_blas.cc:1452] Unable to register cuBLAS factory: Attempting to register factory for plugin cuBLAS when one has already been registered\n",
      "2024-10-05 23:50:24.875489: I tensorflow/core/platform/cpu_feature_guard.cc:210] This TensorFlow binary is optimized to use available CPU instructions in performance-critical operations.\n",
      "To enable the following instructions: AVX2 AVX_VNNI FMA, in other operations, rebuild TensorFlow with the appropriate compiler flags.\n",
      "2024-10-05 23:50:25.845092: W tensorflow/compiler/tf2tensorrt/utils/py_utils.cc:38] TF-TRT Warning: Could not find TensorRT\n"
     ]
    }
   ],
   "source": [
    "# Import standard libraries\n",
    "import os\n",
    "import random\n",
    "import shutil\n",
    "import pathlib\n",
    "\n",
    "import pandas as pd\n",
    "import numpy as np\n",
    "from collections import defaultdict\n",
    "import os\n",
    "\n",
    "# Import PIL for image processing\n",
    "from PIL import Image\n",
    "\n",
    "# Import matplotlib for plotting\n",
    "import matplotlib.pyplot as plt\n",
    "\n",
    "# Import TensorFlow and Keras libraries\n",
    "import tensorflow as tf\n",
    "from tensorflow.keras import layers, models, optimizers\n",
    "from tensorflow.keras.models import Sequential\n",
    "from tensorflow.keras.layers import Conv2D, MaxPooling2D, Flatten, Dropout, Dense, GlobalAveragePooling2D\n",
    "from tensorflow.keras.callbacks import ModelCheckpoint, EarlyStopping\n",
    "from tensorflow.keras.preprocessing.image import ImageDataGenerator\n",
    "from tensorflow.keras.applications import EfficientNetV2B0, MobileNetV2"
   ]
  },
  {
   "cell_type": "markdown",
   "metadata": {},
   "source": [
    "## Data Preparation"
   ]
  },
  {
   "cell_type": "code",
   "execution_count": 8,
   "metadata": {},
   "outputs": [
    {
     "name": "stdout",
     "output_type": "stream",
     "text": [
      "Subfolders (hair types): ['train', 'test']\n"
     ]
    }
   ],
   "source": [
    "dataset_path = 'datasets/hair-type-dataset/data'\n",
    "subfolders = [f.name for f in os.scandir(dataset_path) if f.is_dir()]\n",
    "print(\"Subfolders (hair types):\", subfolders)"
   ]
  },
  {
   "cell_type": "markdown",
   "metadata": {},
   "source": [
    "Shows images and counts of each class in the dataset and the resolution of the images."
   ]
  },
  {
   "cell_type": "code",
   "execution_count": 14,
   "metadata": {},
   "outputs": [],
   "source": [
    "# Dictionary to store image counts and resolutions\n",
    "image_info = {}\n",
    "\n",
    "# Loop through each subfolder\n",
    "for subfolder in subfolders:\n",
    "    folder_path = os.path.join(dataset_path, subfolder)\n",
    "    images_in_subfolder = [f for f in os.listdir(folder_path) if os.path.isfile(os.path.join(folder_path, f))]\n",
    "    \n",
    "    # Initialize counters for the number of images and resolution frequencies\n",
    "    num_images = len(images_in_subfolder)\n",
    "    resolution_count = defaultdict(int)  # Default dictionary to count occurrences of each resolution\n",
    "\n",
    "    # Process each image\n",
    "    for image_file in images_in_subfolder:\n",
    "        image_path = os.path.join(folder_path, image_file)\n",
    "        try:\n",
    "            with Image.open(image_path) as img:\n",
    "                width, height = img.size\n",
    "                resolution_count[(width, height)] += 1  # Increment the count for this resolution\n",
    "        except Exception as e:\n",
    "            print(f\"Error opening image {image_file}: {e}\")\n",
    "\n",
    "    # Store count of images and their resolution frequencies\n",
    "    image_info[subfolder] = {\n",
    "        \"num_images\": num_images,\n",
    "        \"resolution_count\": dict(resolution_count)  # Convert defaultdict to a regular dictionary\n",
    "    }"
   ]
  },
  {
   "cell_type": "code",
   "execution_count": 15,
   "metadata": {},
   "outputs": [
    {
     "data": {
      "text/html": [
       "<div>\n",
       "<style scoped>\n",
       "    .dataframe tbody tr th:only-of-type {\n",
       "        vertical-align: middle;\n",
       "    }\n",
       "\n",
       "    .dataframe tbody tr th {\n",
       "        vertical-align: top;\n",
       "    }\n",
       "\n",
       "    .dataframe thead th {\n",
       "        text-align: right;\n",
       "    }\n",
       "</style>\n",
       "<table border=\"1\" class=\"dataframe\">\n",
       "  <thead>\n",
       "    <tr style=\"text-align: right;\">\n",
       "      <th></th>\n",
       "      <th>Hair Type</th>\n",
       "      <th>Resolution</th>\n",
       "      <th>Image Count</th>\n",
       "    </tr>\n",
       "  </thead>\n",
       "  <tbody>\n",
       "    <tr>\n",
       "      <th>0</th>\n",
       "      <td>curly</td>\n",
       "      <td>474x711</td>\n",
       "      <td>21</td>\n",
       "    </tr>\n",
       "    <tr>\n",
       "      <th>1</th>\n",
       "      <td>curly</td>\n",
       "      <td>460x737</td>\n",
       "      <td>1</td>\n",
       "    </tr>\n",
       "    <tr>\n",
       "      <th>2</th>\n",
       "      <td>curly</td>\n",
       "      <td>474x681</td>\n",
       "      <td>1</td>\n",
       "    </tr>\n",
       "    <tr>\n",
       "      <th>3</th>\n",
       "      <td>curly</td>\n",
       "      <td>474x609</td>\n",
       "      <td>3</td>\n",
       "    </tr>\n",
       "    <tr>\n",
       "      <th>4</th>\n",
       "      <td>curly</td>\n",
       "      <td>474x710</td>\n",
       "      <td>5</td>\n",
       "    </tr>\n",
       "    <tr>\n",
       "      <th>...</th>\n",
       "      <td>...</td>\n",
       "      <td>...</td>\n",
       "      <td>...</td>\n",
       "    </tr>\n",
       "    <tr>\n",
       "      <th>1238</th>\n",
       "      <td>Straight</td>\n",
       "      <td>564x834</td>\n",
       "      <td>1</td>\n",
       "    </tr>\n",
       "    <tr>\n",
       "      <th>1239</th>\n",
       "      <td>Straight</td>\n",
       "      <td>1200x1281</td>\n",
       "      <td>1</td>\n",
       "    </tr>\n",
       "    <tr>\n",
       "      <th>1240</th>\n",
       "      <td>Straight</td>\n",
       "      <td>325x363</td>\n",
       "      <td>1</td>\n",
       "    </tr>\n",
       "    <tr>\n",
       "      <th>1241</th>\n",
       "      <td>Straight</td>\n",
       "      <td>263x191</td>\n",
       "      <td>1</td>\n",
       "    </tr>\n",
       "    <tr>\n",
       "      <th>1242</th>\n",
       "      <td>Straight</td>\n",
       "      <td>879x1228</td>\n",
       "      <td>1</td>\n",
       "    </tr>\n",
       "  </tbody>\n",
       "</table>\n",
       "<p>1243 rows × 3 columns</p>\n",
       "</div>"
      ],
      "text/plain": [
       "     Hair Type Resolution  Image Count\n",
       "0        curly    474x711           21\n",
       "1        curly    460x737            1\n",
       "2        curly    474x681            1\n",
       "3        curly    474x609            3\n",
       "4        curly    474x710            5\n",
       "...        ...        ...          ...\n",
       "1238  Straight    564x834            1\n",
       "1239  Straight  1200x1281            1\n",
       "1240  Straight    325x363            1\n",
       "1241  Straight    263x191            1\n",
       "1242  Straight   879x1228            1\n",
       "\n",
       "[1243 rows x 3 columns]"
      ]
     },
     "execution_count": 15,
     "metadata": {},
     "output_type": "execute_result"
    }
   ],
   "source": [
    "# Create a dataframe to organize the results\n",
    "rows = []\n",
    "for subfolder, info in image_info.items():\n",
    "    for resolution, count in info['resolution_count'].items():\n",
    "        rows.append({\n",
    "            'Hair Type': subfolder,\n",
    "            'Resolution': f\"{resolution[0]}x{resolution[1]}\",\n",
    "            'Image Count': count\n",
    "        })\n",
    "\n",
    "df = pd.DataFrame(rows)\n",
    "\n",
    "# Display the dataframe\n",
    "df"
   ]
  },
  {
   "cell_type": "markdown",
   "metadata": {},
   "source": [
    "## Data Preprocessing"
   ]
  },
  {
   "cell_type": "code",
   "execution_count": 20,
   "metadata": {},
   "outputs": [],
   "source": [
    "img_height, img_width = 150, 150  \n",
    "batch_size = 32\n",
    "epochs = 20"
   ]
  },
  {
   "cell_type": "code",
   "execution_count": 4,
   "metadata": {},
   "outputs": [],
   "source": [
    "def split_dataset(base_path, train_ratio=0.8):\n",
    "    # Path untuk dataset pelatihan dan pengujian\n",
    "    train_path = os.path.join(base_path, 'train')\n",
    "    test_path = os.path.join(base_path, 'test')\n",
    "\n",
    "    # Membuat folder train dan test jika belum ada\n",
    "    os.makedirs(train_path, exist_ok=True)\n",
    "    os.makedirs(test_path, exist_ok=True)\n",
    "\n",
    "    for root, dirs, files in os.walk(base_path):\n",
    "        if root == base_path:\n",
    "            continue\n",
    "\n",
    "        class_name = os.path.basename(root)\n",
    "        if class_name in ['train', 'test']:\n",
    "            continue\n",
    "\n",
    "        # Membuat folder kelas di dalam train dan test\n",
    "        train_class_path = os.path.join(train_path, class_name)\n",
    "        test_class_path = os.path.join(test_path, class_name)\n",
    "        os.makedirs(train_class_path, exist_ok=True)\n",
    "        os.makedirs(test_class_path, exist_ok=True)\n",
    "\n",
    "        # Shuffle files\n",
    "        random.shuffle(files)\n",
    "        split_index = int(train_ratio * len(files))\n",
    "        train_files = files[:split_index]\n",
    "        test_files = files[split_index:]\n",
    "\n",
    "        # Memindahkan file ke folder train\n",
    "        for file in train_files:\n",
    "            src_file = os.path.join(root, file)\n",
    "            dst_file = os.path.join(train_class_path, file)\n",
    "            shutil.move(src_file, dst_file)\n",
    "\n",
    "        # Memindahkan file ke folder test\n",
    "        for file in test_files:\n",
    "            src_file = os.path.join(root, file)\n",
    "            dst_file = os.path.join(test_class_path, file)\n",
    "            shutil.move(src_file, dst_file)\n",
    "\n",
    "\n",
    "split_dataset(dataset_path)"
   ]
  },
  {
   "cell_type": "code",
   "execution_count": 7,
   "metadata": {},
   "outputs": [
    {
     "name": "stdout",
     "output_type": "stream",
     "text": [
      "Menghapus folder: datasets/hair-type-dataset/data/curly\n",
      "Menghapus folder: datasets/hair-type-dataset/data/kinky\n",
      "Menghapus folder: datasets/hair-type-dataset/data/dreadlocks\n",
      "Menghapus folder: datasets/hair-type-dataset/data/Wavy\n",
      "Menghapus folder: datasets/hair-type-dataset/data/Straight\n"
     ]
    }
   ],
   "source": [
    "def delete_unwanted_folders(base_path, keep_folders=['train', 'test']):\n",
    "    for item in os.listdir(base_path):\n",
    "        item_path = os.path.join(base_path, item)\n",
    "        if os.path.isdir(item_path) and item not in keep_folders:\n",
    "            shutil.rmtree(item_path)\n",
    "            print(f\"Menghapus folder: {item_path}\")\n",
    "\n",
    "\n",
    "delete_unwanted_folders(dataset_path)"
   ]
  },
  {
   "cell_type": "markdown",
   "metadata": {},
   "source": [
    "## Modelling\n"
   ]
  },
  {
   "cell_type": "code",
   "execution_count": 40,
   "metadata": {},
   "outputs": [
    {
     "name": "stdout",
     "output_type": "stream",
     "text": [
      "Found 1905 images belonging to 5 classes.\n",
      "Found 1905 images belonging to 5 classes.\n",
      "Found 82 images belonging to 5 classes.\n"
     ]
    }
   ],
   "source": [
    "def augment_and_resize_dataset(base_path, img_size=(150, 150), batch_size=32):\n",
    "    train_path = os.path.join(base_path, 'train')\n",
    "    test_path = os.path.join(base_path, 'test')\n",
    "\n",
    "    train_datagen = ImageDataGenerator(\n",
    "        rescale=1./255,\n",
    "        zoom_range=0.2,\n",
    "        horizontal_flip=True,\n",
    "        fill_mode='nearest'\n",
    "    )\n",
    "\n",
    "    # Hanya rescale untuk data test\n",
    "    test_datagen = ImageDataGenerator(rescale=1./255)\n",
    "\n",
    "\n",
    "    train_generator = train_datagen.flow_from_directory(\n",
    "        train_path,\n",
    "        target_size=img_size,\n",
    "        batch_size=batch_size,\n",
    "        class_mode='categorical'\n",
    "    )\n",
    "\n",
    "    validation_generator = test_datagen.flow_from_directory(\n",
    "        train_path,\n",
    "        target_size=img_size,\n",
    "        batch_size=batch_size,\n",
    "        class_mode='categorical'\n",
    "    )\n",
    "\n",
    "    test_generator = test_datagen.flow_from_directory(\n",
    "        test_path,\n",
    "        target_size=img_size,\n",
    "        batch_size=batch_size,\n",
    "        class_mode='categorical'\n",
    "    )\n",
    "\n",
    "    return train_generator, validation_generator ,test_generator\n",
    "\n",
    "train_generator, validation_generator ,test_generatorm  = augment_and_resize_dataset(dataset_path)"
   ]
  },
  {
   "cell_type": "code",
   "execution_count": 41,
   "metadata": {},
   "outputs": [
    {
     "name": "stdout",
     "output_type": "stream",
     "text": [
      "{'Straight': 0, 'Wavy': 1, 'curly': 2, 'dreadlocks': 3, 'kinky': 4}\n"
     ]
    }
   ],
   "source": [
    "class_indices = train_generator.class_indices\n",
    "print(class_indices)"
   ]
  },
  {
   "cell_type": "code",
   "execution_count": 33,
   "metadata": {},
   "outputs": [
    {
     "name": "stderr",
     "output_type": "stream",
     "text": [
      "/tmp/ipykernel_19347/1046373856.py:1: UserWarning: `input_shape` is undefined or non-square, or `rows` is not in [96, 128, 160, 192, 224]. Weights for input shape (224, 224) will be loaded as the default.\n",
      "  pre_trained_model = MobileNetV2(weights=\"imagenet\", include_top=False, input_shape=(150,150,3))\n"
     ]
    }
   ],
   "source": [
    "pre_trained_model = MobileNetV2(weights=\"imagenet\", include_top=False, input_shape=(150,150,3))\n",
    "\n",
    "pre_trained_model.trainable = False\n",
    "\n",
    "model = Sequential()\n",
    "\n",
    "model.add(pre_trained_model)\n",
    "\n",
    "# Menambahkan Conv2D and Pooling layers\n",
    "model.add(GlobalAveragePooling2D())\n",
    "model.add(Dense(128, activation='relu'))\n",
    "model.add(Dense(5, activation='softmax'))"
   ]
  },
  {
   "cell_type": "code",
   "execution_count": 35,
   "metadata": {},
   "outputs": [],
   "source": [
    "# Compile model\n",
    "optimizer = tf.optimizers.Adam()\n",
    "model.compile(optimizer=optimizer,\n",
    "              loss='categorical_crossentropy',\n",
    "              metrics=['accuracy'])"
   ]
  },
  {
   "cell_type": "code",
   "execution_count": 36,
   "metadata": {},
   "outputs": [],
   "source": [
    "# Callbacks\n",
    "checkpoint = ModelCheckpoint('best_model.keras', monitor='val_loss', save_best_only=True, mode='min')\n",
    "early_stopping = EarlyStopping(monitor='val_accuracy', patience=3, min_delta=0.001, restore_best_weights=True, mode='max', baseline=0.96)"
   ]
  },
  {
   "cell_type": "code",
   "execution_count": 37,
   "metadata": {},
   "outputs": [
    {
     "name": "stdout",
     "output_type": "stream",
     "text": [
      "Epoch 1/20\n",
      "\u001b[1m60/60\u001b[0m \u001b[32m━━━━━━━━━━━━━━━━━━━━\u001b[0m\u001b[37m\u001b[0m \u001b[1m16s\u001b[0m 207ms/step - accuracy: 0.5356 - loss: 1.2508 - val_accuracy: 0.7439 - val_loss: 0.5955\n",
      "Epoch 2/20\n",
      "\u001b[1m60/60\u001b[0m \u001b[32m━━━━━━━━━━━━━━━━━━━━\u001b[0m\u001b[37m\u001b[0m \u001b[1m10s\u001b[0m 162ms/step - accuracy: 0.7828 - loss: 0.5690 - val_accuracy: 0.8049 - val_loss: 0.5402\n",
      "Epoch 3/20\n",
      "\u001b[1m60/60\u001b[0m \u001b[32m━━━━━━━━━━━━━━━━━━━━\u001b[0m\u001b[37m\u001b[0m \u001b[1m9s\u001b[0m 152ms/step - accuracy: 0.7967 - loss: 0.5500 - val_accuracy: 0.8171 - val_loss: 0.4164\n",
      "Epoch 4/20\n",
      "\u001b[1m60/60\u001b[0m \u001b[32m━━━━━━━━━━━━━━━━━━━━\u001b[0m\u001b[37m\u001b[0m \u001b[1m9s\u001b[0m 154ms/step - accuracy: 0.8336 - loss: 0.4346 - val_accuracy: 0.7805 - val_loss: 0.5594\n",
      "Epoch 5/20\n",
      "\u001b[1m60/60\u001b[0m \u001b[32m━━━━━━━━━━━━━━━━━━━━\u001b[0m\u001b[37m\u001b[0m \u001b[1m10s\u001b[0m 162ms/step - accuracy: 0.8552 - loss: 0.3811 - val_accuracy: 0.8049 - val_loss: 0.4804\n",
      "Epoch 6/20\n",
      "\u001b[1m60/60\u001b[0m \u001b[32m━━━━━━━━━━━━━━━━━━━━\u001b[0m\u001b[37m\u001b[0m \u001b[1m10s\u001b[0m 161ms/step - accuracy: 0.8650 - loss: 0.3364 - val_accuracy: 0.7927 - val_loss: 0.3914\n",
      "Epoch 7/20\n",
      "\u001b[1m60/60\u001b[0m \u001b[32m━━━━━━━━━━━━━━━━━━━━\u001b[0m\u001b[37m\u001b[0m \u001b[1m9s\u001b[0m 147ms/step - accuracy: 0.8613 - loss: 0.3516 - val_accuracy: 0.8049 - val_loss: 0.4191\n",
      "Epoch 8/20\n",
      "\u001b[1m60/60\u001b[0m \u001b[32m━━━━━━━━━━━━━━━━━━━━\u001b[0m\u001b[37m\u001b[0m \u001b[1m9s\u001b[0m 146ms/step - accuracy: 0.9038 - loss: 0.2807 - val_accuracy: 0.8415 - val_loss: 0.3428\n",
      "Epoch 9/20\n",
      "\u001b[1m60/60\u001b[0m \u001b[32m━━━━━━━━━━━━━━━━━━━━\u001b[0m\u001b[37m\u001b[0m \u001b[1m9s\u001b[0m 151ms/step - accuracy: 0.9034 - loss: 0.2651 - val_accuracy: 0.8049 - val_loss: 0.5181\n",
      "Epoch 10/20\n",
      "\u001b[1m60/60\u001b[0m \u001b[32m━━━━━━━━━━━━━━━━━━━━\u001b[0m\u001b[37m\u001b[0m \u001b[1m9s\u001b[0m 147ms/step - accuracy: 0.8892 - loss: 0.2775 - val_accuracy: 0.8537 - val_loss: 0.3890\n",
      "Epoch 11/20\n",
      "\u001b[1m60/60\u001b[0m \u001b[32m━━━━━━━━━━━━━━━━━━━━\u001b[0m\u001b[37m\u001b[0m \u001b[1m9s\u001b[0m 145ms/step - accuracy: 0.9249 - loss: 0.2295 - val_accuracy: 0.8415 - val_loss: 0.4434\n",
      "Epoch 12/20\n",
      "\u001b[1m60/60\u001b[0m \u001b[32m━━━━━━━━━━━━━━━━━━━━\u001b[0m\u001b[37m\u001b[0m \u001b[1m9s\u001b[0m 150ms/step - accuracy: 0.9225 - loss: 0.2122 - val_accuracy: 0.8415 - val_loss: 0.4494\n",
      "Epoch 13/20\n",
      "\u001b[1m60/60\u001b[0m \u001b[32m━━━━━━━━━━━━━━━━━━━━\u001b[0m\u001b[37m\u001b[0m \u001b[1m9s\u001b[0m 148ms/step - accuracy: 0.9117 - loss: 0.2400 - val_accuracy: 0.7805 - val_loss: 0.5617\n",
      "Epoch 14/20\n",
      "\u001b[1m60/60\u001b[0m \u001b[32m━━━━━━━━━━━━━━━━━━━━\u001b[0m\u001b[37m\u001b[0m \u001b[1m10s\u001b[0m 157ms/step - accuracy: 0.9276 - loss: 0.1935 - val_accuracy: 0.7805 - val_loss: 0.5789\n",
      "Epoch 15/20\n",
      "\u001b[1m60/60\u001b[0m \u001b[32m━━━━━━━━━━━━━━━━━━━━\u001b[0m\u001b[37m\u001b[0m \u001b[1m9s\u001b[0m 155ms/step - accuracy: 0.9392 - loss: 0.1851 - val_accuracy: 0.8293 - val_loss: 0.3955\n",
      "Epoch 16/20\n",
      "\u001b[1m60/60\u001b[0m \u001b[32m━━━━━━━━━━━━━━━━━━━━\u001b[0m\u001b[37m\u001b[0m \u001b[1m9s\u001b[0m 151ms/step - accuracy: 0.9306 - loss: 0.1787 - val_accuracy: 0.7805 - val_loss: 0.4731\n",
      "Epoch 17/20\n",
      "\u001b[1m60/60\u001b[0m \u001b[32m━━━━━━━━━━━━━━━━━━━━\u001b[0m\u001b[37m\u001b[0m \u001b[1m9s\u001b[0m 151ms/step - accuracy: 0.9348 - loss: 0.1688 - val_accuracy: 0.7927 - val_loss: 0.5764\n",
      "Epoch 18/20\n",
      "\u001b[1m60/60\u001b[0m \u001b[32m━━━━━━━━━━━━━━━━━━━━\u001b[0m\u001b[37m\u001b[0m \u001b[1m10s\u001b[0m 162ms/step - accuracy: 0.9463 - loss: 0.1588 - val_accuracy: 0.8171 - val_loss: 0.5037\n",
      "Epoch 19/20\n",
      "\u001b[1m60/60\u001b[0m \u001b[32m━━━━━━━━━━━━━━━━━━━━\u001b[0m\u001b[37m\u001b[0m \u001b[1m10s\u001b[0m 159ms/step - accuracy: 0.9505 - loss: 0.1367 - val_accuracy: 0.8659 - val_loss: 0.3473\n",
      "Epoch 20/20\n",
      "\u001b[1m60/60\u001b[0m \u001b[32m━━━━━━━━━━━━━━━━━━━━\u001b[0m\u001b[37m\u001b[0m \u001b[1m9s\u001b[0m 157ms/step - accuracy: 0.9505 - loss: 0.1535 - val_accuracy: 0.8171 - val_loss: 0.4731\n"
     ]
    }
   ],
   "source": [
    "History = model.fit(train_generator,\n",
    "              epochs=epochs,\n",
    "              validation_data=test_generator,\n",
    "            #   callbacks=[checkpoint, early_stopping],\n",
    "              verbose=1)\n"
   ]
  },
  {
   "cell_type": "code",
   "execution_count": 42,
   "metadata": {},
   "outputs": [
    {
     "name": "stderr",
     "output_type": "stream",
     "text": [
      "/home/nbs/Documents/Private Iqbal/hair-type-classification/.venv/lib/python3.9/site-packages/keras/src/trainers/data_adapters/py_dataset_adapter.py:121: UserWarning: Your `PyDataset` class should call `super().__init__(**kwargs)` in its constructor. `**kwargs` can include `workers`, `use_multiprocessing`, `max_queue_size`. Do not pass these arguments to `fit()`, as they will be ignored.\n",
      "  self._warn_if_super_not_called()\n"
     ]
    },
    {
     "name": "stdout",
     "output_type": "stream",
     "text": [
      "\u001b[1m60/60\u001b[0m \u001b[32m━━━━━━━━━━━━━━━━━━━━\u001b[0m\u001b[37m\u001b[0m \u001b[1m6s\u001b[0m 103ms/step - accuracy: 0.9476 - loss: 0.1307\n",
      "Validation Accuracy: 95.43%\n"
     ]
    }
   ],
   "source": [
    "loss, accuracy = model.evaluate(validation_generator)\n",
    "print(f\"Validation Accuracy: {accuracy*100:.2f}%\")"
   ]
  },
  {
   "cell_type": "markdown",
   "metadata": {},
   "source": [
    "## Evaluation"
   ]
  },
  {
   "cell_type": "code",
   "execution_count": 43,
   "metadata": {},
   "outputs": [
    {
     "data": {
      "image/png": "[encoded data removed]",
      "text/plain": [
       "<Figure size 1200x600 with 2 Axes>"
      ]
     },
     "metadata": {},
     "output_type": "display_data"
    }
   ],
   "source": [
    "acc = History.history['accuracy']\n",
    "val_acc = History.history['val_accuracy']\n",
    "loss = History.history['loss']\n",
    "val_loss = History.history['val_loss']\n",
    "\n",
    "epochs_range = range(epochs)\n",
    "\n",
    "plt.figure(figsize=(12, 6))\n",
    "\n",
    "plt.subplot(1, 2, 1)\n",
    "plt.plot(epochs_range, acc, label='Training Accuracy')\n",
    "plt.plot(epochs_range, val_acc, label='Validation Accuracy')\n",
    "plt.legend(loc='lower right')\n",
    "plt.title('Training and Validation Accuracy')\n",
    "\n",
    "plt.subplot(1, 2, 2)\n",
    "plt.plot(epochs_range, loss, label='Training Loss')\n",
    "plt.plot(epochs_range, val_loss, label='Validation Loss')\n",
    "plt.legend(loc='upper right')\n",
    "plt.title('Training and Validation Loss')\n",
    "\n",
    "plt.show()"
   ]
  },
  {
   "cell_type": "markdown",
   "metadata": {},
   "source": [
    "## Model Conversion"
   ]
  },
  {
   "cell_type": "code",
   "execution_count": 51,
   "metadata": {},
   "outputs": [
    {
     "name": "stdout",
     "output_type": "stream",
     "text": [
      "Directory 'models' already exists.\n"
     ]
    }
   ],
   "source": [
    "try:\n",
    "    os.mkdir(\"models\")\n",
    "    print(\"Directory 'models' created.\")\n",
    "except FileExistsError:\n",
    "    print(\"Directory 'models' already exists.\")\n",
    "except Exception as e:\n",
    "    print(f\"An error occurred: {e}\")"
   ]
  },
  {
   "cell_type": "code",
   "execution_count": 52,
   "metadata": {},
   "outputs": [
    {
     "name": "stderr",
     "output_type": "stream",
     "text": [
      "WARNING:absl:You are saving your model as an HDF5 file via `model.save()` or `keras.saving.save_model(model)`. This file format is considered legacy. We recommend using instead the native Keras format, e.g. `model.save('my_model.keras')` or `keras.saving.save_model(model, 'my_model.keras')`. \n"
     ]
    }
   ],
   "source": [
    "model.save(\"models/model.h5\")"
   ]
  },
  {
   "cell_type": "code",
   "execution_count": 54,
   "metadata": {},
   "outputs": [
    {
     "name": "stdout",
     "output_type": "stream",
     "text": [
      "2024-10-06 00:21:55.557188: I tensorflow/core/util/port.cc:153] oneDNN custom operations are on. You may see slightly different numerical results due to floating-point round-off errors from different computation orders. To turn them off, set the environment variable `TF_ENABLE_ONEDNN_OPTS=0`.\n",
      "2024-10-06 00:21:55.565891: E external/local_xla/xla/stream_executor/cuda/cuda_fft.cc:485] Unable to register cuFFT factory: Attempting to register factory for plugin cuFFT when one has already been registered\n",
      "2024-10-06 00:21:55.576834: E external/local_xla/xla/stream_executor/cuda/cuda_dnn.cc:8454] Unable to register cuDNN factory: Attempting to register factory for plugin cuDNN when one has already been registered\n",
      "2024-10-06 00:21:55.580291: E external/local_xla/xla/stream_executor/cuda/cuda_blas.cc:1452] Unable to register cuBLAS factory: Attempting to register factory for plugin cuBLAS when one has already been registered\n",
      "2024-10-06 00:21:55.588414: I tensorflow/core/platform/cpu_feature_guard.cc:210] This TensorFlow binary is optimized to use available CPU instructions in performance-critical operations.\n",
      "To enable the following instructions: AVX2 AVX_VNNI FMA, in other operations, rebuild TensorFlow with the appropriate compiler flags.\n",
      "2024-10-06 00:21:56.169674: W tensorflow/compiler/tf2tensorrt/utils/py_utils.cc:38] TF-TRT Warning: Could not find TensorRT\n",
      "failed to lookup keras version from the file,\n",
      "    this is likely a weight only file\n"
     ]
    }
   ],
   "source": [
    "!tensorflowjs_converter --input_format=keras models/model.h5 models/tfjs_model"
   ]
  },
  {
   "cell_type": "code",
   "execution_count": 55,
   "metadata": {},
   "outputs": [
    {
     "name": "stdout",
     "output_type": "stream",
     "text": [
      "INFO:tensorflow:Assets written to: models/saved_model/assets\n"
     ]
    },
    {
     "name": "stderr",
     "output_type": "stream",
     "text": [
      "INFO:tensorflow:Assets written to: models/saved_model/assets\n"
     ]
    }
   ],
   "source": [
    "save_path = os.path.join(\"models/saved_model/\")\n",
    "tf.saved_model.save(model, save_path)"
   ]
  },
  {
   "cell_type": "code",
   "execution_count": 56,
   "metadata": {},
   "outputs": [
    {
     "name": "stderr",
     "output_type": "stream",
     "text": [
      "WARNING:absl:Compiled the loaded model, but the compiled metrics have yet to be built. `model.compile_metrics` will be empty until you train or evaluate the model.\n"
     ]
    },
    {
     "name": "stdout",
     "output_type": "stream",
     "text": [
      "INFO:tensorflow:Assets written to: /tmp/tmpoc0qb6x0/assets\n"
     ]
    },
    {
     "name": "stderr",
     "output_type": "stream",
     "text": [
      "INFO:tensorflow:Assets written to: /tmp/tmpoc0qb6x0/assets\n"
     ]
    },
    {
     "name": "stdout",
     "output_type": "stream",
     "text": [
      "Saved artifact at '/tmp/tmpoc0qb6x0'. The following endpoints are available:\n",
      "\n",
      "* Endpoint 'serve'\n",
      "  args_0 (POSITIONAL_ONLY): TensorSpec(shape=(None, 150, 150, 3), dtype=tf.float32, name='input_layer_9')\n",
      "Output Type:\n",
      "  TensorSpec(shape=(None, 5), dtype=tf.float32, name=None)\n",
      "Captures:\n",
      "  126171513262496: TensorSpec(shape=(), dtype=tf.resource, name=None)\n",
      "  126171513168464: TensorSpec(shape=(), dtype=tf.resource, name=None)\n",
      "  126171513168640: TensorSpec(shape=(), dtype=tf.resource, name=None)\n",
      "  126171513263024: TensorSpec(shape=(), dtype=tf.resource, name=None)\n",
      "  126171513265664: TensorSpec(shape=(), dtype=tf.resource, name=None)\n",
      "  126171513170928: TensorSpec(shape=(), dtype=tf.resource, name=None)\n",
      "  126171513213344: TensorSpec(shape=(), dtype=tf.resource, name=None)\n",
      "  126171513214224: TensorSpec(shape=(), dtype=tf.resource, name=None)\n",
      "  126171513171104: TensorSpec(shape=(), dtype=tf.resource, name=None)\n",
      "  126171513212992: TensorSpec(shape=(), dtype=tf.resource, name=None)\n",
      "  126171513216512: TensorSpec(shape=(), dtype=tf.resource, name=None)\n",
      "  126171513205680: TensorSpec(shape=(), dtype=tf.resource, name=None)\n",
      "  126171513206560: TensorSpec(shape=(), dtype=tf.resource, name=None)\n",
      "  126171513204800: TensorSpec(shape=(), dtype=tf.resource, name=None)\n",
      "  126171513205328: TensorSpec(shape=(), dtype=tf.resource, name=None)\n",
      "  126171513208496: TensorSpec(shape=(), dtype=tf.resource, name=None)\n",
      "  126171513242896: TensorSpec(shape=(), dtype=tf.resource, name=None)\n",
      "  126171513243952: TensorSpec(shape=(), dtype=tf.resource, name=None)\n",
      "  126171513241664: TensorSpec(shape=(), dtype=tf.resource, name=None)\n",
      "  126171513242720: TensorSpec(shape=(), dtype=tf.resource, name=None)\n",
      "  126171513177184: TensorSpec(shape=(), dtype=tf.resource, name=None)\n",
      "  126171513178592: TensorSpec(shape=(), dtype=tf.resource, name=None)\n",
      "  126171513179120: TensorSpec(shape=(), dtype=tf.resource, name=None)\n",
      "  126171513177360: TensorSpec(shape=(), dtype=tf.resource, name=None)\n",
      "  126171513178240: TensorSpec(shape=(), dtype=tf.resource, name=None)\n",
      "  126171513287952: TensorSpec(shape=(), dtype=tf.resource, name=None)\n",
      "  126171513289360: TensorSpec(shape=(), dtype=tf.resource, name=None)\n",
      "  126171513290240: TensorSpec(shape=(), dtype=tf.resource, name=None)\n",
      "  126171513288128: TensorSpec(shape=(), dtype=tf.resource, name=None)\n",
      "  126171513289008: TensorSpec(shape=(), dtype=tf.resource, name=None)\n",
      "  126171513292224: TensorSpec(shape=(), dtype=tf.resource, name=None)\n",
      "  126171513293808: TensorSpec(shape=(), dtype=tf.resource, name=None)\n",
      "  126171513143360: TensorSpec(shape=(), dtype=tf.resource, name=None)\n",
      "  126171513292400: TensorSpec(shape=(), dtype=tf.resource, name=None)\n",
      "  126171513293632: TensorSpec(shape=(), dtype=tf.resource, name=None)\n",
      "  126171513145648: TensorSpec(shape=(), dtype=tf.resource, name=None)\n",
      "  126170918760864: TensorSpec(shape=(), dtype=tf.resource, name=None)\n",
      "  126170918761040: TensorSpec(shape=(), dtype=tf.resource, name=None)\n",
      "  126171513145824: TensorSpec(shape=(), dtype=tf.resource, name=None)\n",
      "  126171513146704: TensorSpec(shape=(), dtype=tf.resource, name=None)\n",
      "  126170918763328: TensorSpec(shape=(), dtype=tf.resource, name=None)\n",
      "  126170918793456: TensorSpec(shape=(), dtype=tf.resource, name=None)\n",
      "  126170918794336: TensorSpec(shape=(), dtype=tf.resource, name=None)\n",
      "  126170918763504: TensorSpec(shape=(), dtype=tf.resource, name=None)\n",
      "  126170918793280: TensorSpec(shape=(), dtype=tf.resource, name=None)\n",
      "  126170918796976: TensorSpec(shape=(), dtype=tf.resource, name=None)\n",
      "  126170918732896: TensorSpec(shape=(), dtype=tf.resource, name=None)\n",
      "  126170918733600: TensorSpec(shape=(), dtype=tf.resource, name=None)\n",
      "  126170918731840: TensorSpec(shape=(), dtype=tf.resource, name=None)\n",
      "  126170918732544: TensorSpec(shape=(), dtype=tf.resource, name=None)\n",
      "  126170918748752: TensorSpec(shape=(), dtype=tf.resource, name=None)\n",
      "  126170918750160: TensorSpec(shape=(), dtype=tf.resource, name=None)\n",
      "  126170918750688: TensorSpec(shape=(), dtype=tf.resource, name=None)\n",
      "  126170918748928: TensorSpec(shape=(), dtype=tf.resource, name=None)\n",
      "  126170918749808: TensorSpec(shape=(), dtype=tf.resource, name=None)\n",
      "  126170918552320: TensorSpec(shape=(), dtype=tf.resource, name=None)\n",
      "  126170918553728: TensorSpec(shape=(), dtype=tf.resource, name=None)\n",
      "  126170918554608: TensorSpec(shape=(), dtype=tf.resource, name=None)\n",
      "  126170918552496: TensorSpec(shape=(), dtype=tf.resource, name=None)\n",
      "  126170918553376: TensorSpec(shape=(), dtype=tf.resource, name=None)\n",
      "  126170918597552: TensorSpec(shape=(), dtype=tf.resource, name=None)\n",
      "  126170918599136: TensorSpec(shape=(), dtype=tf.resource, name=None)\n",
      "  126170918600192: TensorSpec(shape=(), dtype=tf.resource, name=None)\n",
      "  126170918597728: TensorSpec(shape=(), dtype=tf.resource, name=None)\n",
      "  126170918598960: TensorSpec(shape=(), dtype=tf.resource, name=None)\n",
      "  126170918610720: TensorSpec(shape=(), dtype=tf.resource, name=None)\n",
      "  126170918612128: TensorSpec(shape=(), dtype=tf.resource, name=None)\n",
      "  126170918568000: TensorSpec(shape=(), dtype=tf.resource, name=None)\n",
      "  126170918610896: TensorSpec(shape=(), dtype=tf.resource, name=None)\n",
      "  126170918611776: TensorSpec(shape=(), dtype=tf.resource, name=None)\n",
      "  126170918570288: TensorSpec(shape=(), dtype=tf.resource, name=None)\n",
      "  126170918556064: TensorSpec(shape=(), dtype=tf.resource, name=None)\n",
      "  126170918556240: TensorSpec(shape=(), dtype=tf.resource, name=None)\n",
      "  126170918570464: TensorSpec(shape=(), dtype=tf.resource, name=None)\n",
      "  126170918571344: TensorSpec(shape=(), dtype=tf.resource, name=None)\n",
      "  126170918558880: TensorSpec(shape=(), dtype=tf.resource, name=None)\n",
      "  126170918646352: TensorSpec(shape=(), dtype=tf.resource, name=None)\n",
      "  126170918647056: TensorSpec(shape=(), dtype=tf.resource, name=None)\n",
      "  126170918645824: TensorSpec(shape=(), dtype=tf.resource, name=None)\n",
      "  126170918646000: TensorSpec(shape=(), dtype=tf.resource, name=None)\n",
      "  126170918649344: TensorSpec(shape=(), dtype=tf.resource, name=None)\n",
      "  126170918577072: TensorSpec(shape=(), dtype=tf.resource, name=None)\n",
      "  126170918577952: TensorSpec(shape=(), dtype=tf.resource, name=None)\n",
      "  126170918576192: TensorSpec(shape=(), dtype=tf.resource, name=None)\n",
      "  126170918576720: TensorSpec(shape=(), dtype=tf.resource, name=None)\n",
      "  126170918579888: TensorSpec(shape=(), dtype=tf.resource, name=None)\n",
      "  126170918753728: TensorSpec(shape=(), dtype=tf.resource, name=None)\n",
      "  126170918754608: TensorSpec(shape=(), dtype=tf.resource, name=None)\n",
      "  126170918752496: TensorSpec(shape=(), dtype=tf.resource, name=None)\n",
      "  126170918753376: TensorSpec(shape=(), dtype=tf.resource, name=None)\n",
      "  126170918679472: TensorSpec(shape=(), dtype=tf.resource, name=None)\n",
      "  126170918680880: TensorSpec(shape=(), dtype=tf.resource, name=None)\n",
      "  126170918681584: TensorSpec(shape=(), dtype=tf.resource, name=None)\n",
      "  126170918679648: TensorSpec(shape=(), dtype=tf.resource, name=None)\n",
      "  126170918680528: TensorSpec(shape=(), dtype=tf.resource, name=None)\n",
      "  126170918696912: TensorSpec(shape=(), dtype=tf.resource, name=None)\n",
      "  126170918698320: TensorSpec(shape=(), dtype=tf.resource, name=None)\n",
      "  126170918703168: TensorSpec(shape=(), dtype=tf.resource, name=None)\n",
      "  126170918697088: TensorSpec(shape=(), dtype=tf.resource, name=None)\n",
      "  126170918697968: TensorSpec(shape=(), dtype=tf.resource, name=None)\n",
      "  126170918705104: TensorSpec(shape=(), dtype=tf.resource, name=None)\n",
      "  126170918887488: TensorSpec(shape=(), dtype=tf.resource, name=None)\n",
      "  126170918887664: TensorSpec(shape=(), dtype=tf.resource, name=None)\n",
      "  126170918705280: TensorSpec(shape=(), dtype=tf.resource, name=None)\n",
      "  126170918706160: TensorSpec(shape=(), dtype=tf.resource, name=None)\n",
      "  126170918889600: TensorSpec(shape=(), dtype=tf.resource, name=None)\n",
      "  126170918826576: TensorSpec(shape=(), dtype=tf.resource, name=None)\n",
      "  126170918826752: TensorSpec(shape=(), dtype=tf.resource, name=None)\n",
      "  126170918889776: TensorSpec(shape=(), dtype=tf.resource, name=None)\n",
      "  126170918891008: TensorSpec(shape=(), dtype=tf.resource, name=None)\n",
      "  126170918829040: TensorSpec(shape=(), dtype=tf.resource, name=None)\n",
      "  126170918908320: TensorSpec(shape=(), dtype=tf.resource, name=None)\n",
      "  126170918909200: TensorSpec(shape=(), dtype=tf.resource, name=None)\n",
      "  126170918829216: TensorSpec(shape=(), dtype=tf.resource, name=None)\n",
      "  126170918907968: TensorSpec(shape=(), dtype=tf.resource, name=None)\n",
      "  126170918911488: TensorSpec(shape=(), dtype=tf.resource, name=None)\n",
      "  126170918900656: TensorSpec(shape=(), dtype=tf.resource, name=None)\n",
      "  126170918901536: TensorSpec(shape=(), dtype=tf.resource, name=None)\n",
      "  126170918900128: TensorSpec(shape=(), dtype=tf.resource, name=None)\n",
      "  126170918900304: TensorSpec(shape=(), dtype=tf.resource, name=None)\n",
      "  126170918850976: TensorSpec(shape=(), dtype=tf.resource, name=None)\n",
      "  126170918852384: TensorSpec(shape=(), dtype=tf.resource, name=None)\n",
      "  126170918853088: TensorSpec(shape=(), dtype=tf.resource, name=None)\n",
      "  126170918851152: TensorSpec(shape=(), dtype=tf.resource, name=None)\n",
      "  126170918852032: TensorSpec(shape=(), dtype=tf.resource, name=None)\n",
      "  126170919072512: TensorSpec(shape=(), dtype=tf.resource, name=None)\n",
      "  126170919073920: TensorSpec(shape=(), dtype=tf.resource, name=None)\n",
      "  126170919074800: TensorSpec(shape=(), dtype=tf.resource, name=None)\n",
      "  126170919072688: TensorSpec(shape=(), dtype=tf.resource, name=None)\n",
      "  126170919073568: TensorSpec(shape=(), dtype=tf.resource, name=None)\n",
      "  126170918995216: TensorSpec(shape=(), dtype=tf.resource, name=None)\n",
      "  126170918996624: TensorSpec(shape=(), dtype=tf.resource, name=None)\n",
      "  126170918997504: TensorSpec(shape=(), dtype=tf.resource, name=None)\n",
      "  126170918995392: TensorSpec(shape=(), dtype=tf.resource, name=None)\n",
      "  126170918996272: TensorSpec(shape=(), dtype=tf.resource, name=None)\n",
      "  126170918873216: TensorSpec(shape=(), dtype=tf.resource, name=None)\n",
      "  126170918854720: TensorSpec(shape=(), dtype=tf.resource, name=None)\n",
      "  126170918854896: TensorSpec(shape=(), dtype=tf.resource, name=None)\n",
      "  126170918873392: TensorSpec(shape=(), dtype=tf.resource, name=None)\n",
      "  126170918874272: TensorSpec(shape=(), dtype=tf.resource, name=None)\n",
      "  126170918857184: TensorSpec(shape=(), dtype=tf.resource, name=None)\n",
      "  126170919035472: TensorSpec(shape=(), dtype=tf.resource, name=None)\n",
      "  126170919035648: TensorSpec(shape=(), dtype=tf.resource, name=None)\n",
      "  126170918857360: TensorSpec(shape=(), dtype=tf.resource, name=None)\n",
      "  126170918858240: TensorSpec(shape=(), dtype=tf.resource, name=None)\n",
      "  126170919037936: TensorSpec(shape=(), dtype=tf.resource, name=None)\n",
      "  126170918936992: TensorSpec(shape=(), dtype=tf.resource, name=None)\n",
      "  126170918937872: TensorSpec(shape=(), dtype=tf.resource, name=None)\n",
      "  126170919038112: TensorSpec(shape=(), dtype=tf.resource, name=None)\n",
      "  126170918936640: TensorSpec(shape=(), dtype=tf.resource, name=None)\n",
      "  126170918940512: TensorSpec(shape=(), dtype=tf.resource, name=None)\n",
      "  126170919019792: TensorSpec(shape=(), dtype=tf.resource, name=None)\n",
      "  126170919020496: TensorSpec(shape=(), dtype=tf.resource, name=None)\n",
      "  126170919018560: TensorSpec(shape=(), dtype=tf.resource, name=None)\n",
      "  126170919019440: TensorSpec(shape=(), dtype=tf.resource, name=None)\n",
      "  126170919022432: TensorSpec(shape=(), dtype=tf.resource, name=None)\n",
      "  126170918934128: TensorSpec(shape=(), dtype=tf.resource, name=None)\n",
      "  126170918935008: TensorSpec(shape=(), dtype=tf.resource, name=None)\n",
      "  126170918933600: TensorSpec(shape=(), dtype=tf.resource, name=None)\n",
      "  126170918933776: TensorSpec(shape=(), dtype=tf.resource, name=None)\n",
      "  126170918986496: TensorSpec(shape=(), dtype=tf.resource, name=None)\n",
      "  126170918987904: TensorSpec(shape=(), dtype=tf.resource, name=None)\n",
      "  126170918988784: TensorSpec(shape=(), dtype=tf.resource, name=None)\n",
      "  126170918986672: TensorSpec(shape=(), dtype=tf.resource, name=None)\n",
      "  126170918987552: TensorSpec(shape=(), dtype=tf.resource, name=None)\n",
      "  126170919060400: TensorSpec(shape=(), dtype=tf.resource, name=None)\n",
      "  126170919061984: TensorSpec(shape=(), dtype=tf.resource, name=None)\n",
      "  126170919063040: TensorSpec(shape=(), dtype=tf.resource, name=None)\n",
      "  126170919060576: TensorSpec(shape=(), dtype=tf.resource, name=None)\n",
      "  126170919061808: TensorSpec(shape=(), dtype=tf.resource, name=None)\n",
      "  126170918979360: TensorSpec(shape=(), dtype=tf.resource, name=None)\n",
      "  126170918980768: TensorSpec(shape=(), dtype=tf.resource, name=None)\n",
      "  126170939519040: TensorSpec(shape=(), dtype=tf.resource, name=None)\n",
      "  126170918979536: TensorSpec(shape=(), dtype=tf.resource, name=None)\n",
      "  126170918980416: TensorSpec(shape=(), dtype=tf.resource, name=None)\n",
      "  126170939521328: TensorSpec(shape=(), dtype=tf.resource, name=None)\n",
      "  126170939310496: TensorSpec(shape=(), dtype=tf.resource, name=None)\n",
      "  126170939310672: TensorSpec(shape=(), dtype=tf.resource, name=None)\n",
      "  126170939521504: TensorSpec(shape=(), dtype=tf.resource, name=None)\n",
      "  126170939522384: TensorSpec(shape=(), dtype=tf.resource, name=None)\n",
      "  126170939313312: TensorSpec(shape=(), dtype=tf.resource, name=None)\n",
      "  126170939294288: TensorSpec(shape=(), dtype=tf.resource, name=None)\n",
      "  126170939294992: TensorSpec(shape=(), dtype=tf.resource, name=None)\n",
      "  126170939293760: TensorSpec(shape=(), dtype=tf.resource, name=None)\n",
      "  126170939293936: TensorSpec(shape=(), dtype=tf.resource, name=None)\n",
      "  126170939297280: TensorSpec(shape=(), dtype=tf.resource, name=None)\n",
      "  126170939298736: TensorSpec(shape=(), dtype=tf.resource, name=None)\n",
      "  126170939299616: TensorSpec(shape=(), dtype=tf.resource, name=None)\n",
      "  126170939297856: TensorSpec(shape=(), dtype=tf.resource, name=None)\n",
      "  126170939298384: TensorSpec(shape=(), dtype=tf.resource, name=None)\n",
      "  126170939301552: TensorSpec(shape=(), dtype=tf.resource, name=None)\n",
      "  126170939381184: TensorSpec(shape=(), dtype=tf.resource, name=None)\n",
      "  126170939382064: TensorSpec(shape=(), dtype=tf.resource, name=None)\n",
      "  126170939379952: TensorSpec(shape=(), dtype=tf.resource, name=None)\n",
      "  126170939380832: TensorSpec(shape=(), dtype=tf.resource, name=None)\n",
      "  126170939364272: TensorSpec(shape=(), dtype=tf.resource, name=None)\n",
      "  126170939365680: TensorSpec(shape=(), dtype=tf.resource, name=None)\n",
      "  126170939366384: TensorSpec(shape=(), dtype=tf.resource, name=None)\n",
      "  126170939364448: TensorSpec(shape=(), dtype=tf.resource, name=None)\n",
      "  126170939365328: TensorSpec(shape=(), dtype=tf.resource, name=None)\n",
      "  126170939438880: TensorSpec(shape=(), dtype=tf.resource, name=None)\n",
      "  126170939440288: TensorSpec(shape=(), dtype=tf.resource, name=None)\n",
      "  126170939416640: TensorSpec(shape=(), dtype=tf.resource, name=None)\n",
      "  126170939439056: TensorSpec(shape=(), dtype=tf.resource, name=None)\n",
      "  126170939439936: TensorSpec(shape=(), dtype=tf.resource, name=None)\n",
      "  126170939418576: TensorSpec(shape=(), dtype=tf.resource, name=None)\n",
      "  126170939506752: TensorSpec(shape=(), dtype=tf.resource, name=None)\n",
      "  126170939506928: TensorSpec(shape=(), dtype=tf.resource, name=None)\n",
      "  126170939418752: TensorSpec(shape=(), dtype=tf.resource, name=None)\n",
      "  126170939419632: TensorSpec(shape=(), dtype=tf.resource, name=None)\n",
      "  126170939508864: TensorSpec(shape=(), dtype=tf.resource, name=None)\n",
      "  126170939511376: TensorSpec(shape=(), dtype=tf.resource, name=None)\n",
      "  126170939511552: TensorSpec(shape=(), dtype=tf.resource, name=None)\n",
      "  126170939509040: TensorSpec(shape=(), dtype=tf.resource, name=None)\n",
      "  126170939510272: TensorSpec(shape=(), dtype=tf.resource, name=None)\n",
      "  126170939513840: TensorSpec(shape=(), dtype=tf.resource, name=None)\n",
      "  126170939281824: TensorSpec(shape=(), dtype=tf.resource, name=None)\n",
      "  126170939282704: TensorSpec(shape=(), dtype=tf.resource, name=None)\n",
      "  126170939514016: TensorSpec(shape=(), dtype=tf.resource, name=None)\n",
      "  126170939281472: TensorSpec(shape=(), dtype=tf.resource, name=None)\n",
      "  126170939284992: TensorSpec(shape=(), dtype=tf.resource, name=None)\n",
      "  126170939360176: TensorSpec(shape=(), dtype=tf.resource, name=None)\n",
      "  126170939361056: TensorSpec(shape=(), dtype=tf.resource, name=None)\n",
      "  126170939359296: TensorSpec(shape=(), dtype=tf.resource, name=None)\n",
      "  126170939359824: TensorSpec(shape=(), dtype=tf.resource, name=None)\n",
      "  126170939351456: TensorSpec(shape=(), dtype=tf.resource, name=None)\n",
      "  126170939352864: TensorSpec(shape=(), dtype=tf.resource, name=None)\n",
      "  126170939353568: TensorSpec(shape=(), dtype=tf.resource, name=None)\n",
      "  126170939351632: TensorSpec(shape=(), dtype=tf.resource, name=None)\n",
      "  126170939352512: TensorSpec(shape=(), dtype=tf.resource, name=None)\n",
      "  126170939491072: TensorSpec(shape=(), dtype=tf.resource, name=None)\n",
      "  126170939492480: TensorSpec(shape=(), dtype=tf.resource, name=None)\n",
      "  126170939493360: TensorSpec(shape=(), dtype=tf.resource, name=None)\n",
      "  126170939491248: TensorSpec(shape=(), dtype=tf.resource, name=None)\n",
      "  126170939492128: TensorSpec(shape=(), dtype=tf.resource, name=None)\n",
      "  126170939471120: TensorSpec(shape=(), dtype=tf.resource, name=None)\n",
      "  126170939472528: TensorSpec(shape=(), dtype=tf.resource, name=None)\n",
      "  126170939473408: TensorSpec(shape=(), dtype=tf.resource, name=None)\n",
      "  126170939471296: TensorSpec(shape=(), dtype=tf.resource, name=None)\n",
      "  126170939472176: TensorSpec(shape=(), dtype=tf.resource, name=None)\n",
      "  126170930096256: TensorSpec(shape=(), dtype=tf.resource, name=None)\n",
      "  126170930151488: TensorSpec(shape=(), dtype=tf.resource, name=None)\n",
      "  126170930151664: TensorSpec(shape=(), dtype=tf.resource, name=None)\n",
      "  126170930096432: TensorSpec(shape=(), dtype=tf.resource, name=None)\n",
      "  126170930097312: TensorSpec(shape=(), dtype=tf.resource, name=None)\n",
      "  126170930153952: TensorSpec(shape=(), dtype=tf.resource, name=None)\n",
      "  126170930307664: TensorSpec(shape=(), dtype=tf.resource, name=None)\n",
      "  126170930307840: TensorSpec(shape=(), dtype=tf.resource, name=None)\n",
      "  126170930154128: TensorSpec(shape=(), dtype=tf.resource, name=None)\n",
      "  126170930155008: TensorSpec(shape=(), dtype=tf.resource, name=None)\n",
      "  126170930310128: TensorSpec(shape=(), dtype=tf.resource, name=None)\n",
      "  126170930336160: TensorSpec(shape=(), dtype=tf.resource, name=None)\n",
      "  126170930337040: TensorSpec(shape=(), dtype=tf.resource, name=None)\n",
      "  126170930310304: TensorSpec(shape=(), dtype=tf.resource, name=None)\n",
      "  126170930335808: TensorSpec(shape=(), dtype=tf.resource, name=None)\n",
      "  126170930338976: TensorSpec(shape=(), dtype=tf.resource, name=None)\n",
      "  126170930123520: TensorSpec(shape=(), dtype=tf.resource, name=None)\n",
      "  126170930124576: TensorSpec(shape=(), dtype=tf.resource, name=None)\n",
      "  126170930122816: TensorSpec(shape=(), dtype=tf.resource, name=None)\n",
      "  126170930123344: TensorSpec(shape=(), dtype=tf.resource, name=None)\n",
      "  126171667333360: TensorSpec(shape=(), dtype=tf.resource, name=None)\n",
      "  126171667333184: TensorSpec(shape=(), dtype=tf.resource, name=None)\n",
      "  126170929471328: TensorSpec(shape=(), dtype=tf.resource, name=None)\n",
      "  126170929470272: TensorSpec(shape=(), dtype=tf.resource, name=None)\n"
     ]
    },
    {
     "name": "stderr",
     "output_type": "stream",
     "text": [
      "W0000 00:00:1728148994.183330   19347 tf_tfl_flatbuffer_helpers.cc:392] Ignored output_format.\n",
      "W0000 00:00:1728148994.183350   19347 tf_tfl_flatbuffer_helpers.cc:395] Ignored drop_control_dependency.\n",
      "2024-10-06 00:23:14.183760: I tensorflow/cc/saved_model/reader.cc:83] Reading SavedModel from: /tmp/tmpoc0qb6x0\n",
      "2024-10-06 00:23:14.191849: I tensorflow/cc/saved_model/reader.cc:52] Reading meta graph with tags { serve }\n",
      "2024-10-06 00:23:14.191875: I tensorflow/cc/saved_model/reader.cc:147] Reading SavedModel debug info (if present) from: /tmp/tmpoc0qb6x0\n",
      "2024-10-06 00:23:14.258469: I tensorflow/compiler/mlir/mlir_graph_optimization_pass.cc:388] MLIR V1 optimization pass is not enabled\n",
      "2024-10-06 00:23:14.271212: I tensorflow/cc/saved_model/loader.cc:236] Restoring SavedModel bundle.\n",
      "2024-10-06 00:23:14.793273: I tensorflow/cc/saved_model/loader.cc:220] Running initialization op on SavedModel bundle at path: /tmp/tmpoc0qb6x0\n",
      "2024-10-06 00:23:14.916242: I tensorflow/cc/saved_model/loader.cc:462] SavedModel load for tags { serve }; Status: success: OK. Took 732486 microseconds.\n"
     ]
    }
   ],
   "source": [
    "# Load the Keras model\n",
    "model_TFLITE = tf.keras.models.load_model('models/model.h5')\n",
    "\n",
    "# Convert the model to TensorFlow Lite format\n",
    "converter = tf.lite.TFLiteConverter.from_keras_model(model_TFLITE)\n",
    "tflite_model = converter.convert()\n",
    "\n",
    "# Save the converted model to a file\n",
    "with open(\"models/converted_model.tflite\", \"wb\") as f:\n",
    "    f.write(tflite_model)"
   ]
  },
  {
   "cell_type": "markdown",
   "metadata": {},
   "source": [
    "## Inference"
   ]
  },
  {
   "cell_type": "code",
   "execution_count": 57,
   "metadata": {},
   "outputs": [],
   "source": [
    "import tensorflow as tf\n",
    "import requests\n",
    "import os"
   ]
  },
  {
   "cell_type": "code",
   "execution_count": 64,
   "metadata": {},
   "outputs": [
    {
     "name": "stdout",
     "output_type": "stream",
     "text": [
      "Image: images/curly.jpg, Predicted class: Curly\n",
      "Image: images/straight.jpg, Predicted class: Straight\n",
      "Image: images/wavy.jpg, Predicted class: Wavy\n",
      "Image: images/kinky.jpeg, Predicted class: Straight\n",
      "Image: images/dreadlocks.jpg, Predicted class: Dreadlocks\n"
     ]
    }
   ],
   "source": [
    "# Load the TFLite model and allocate tensors\n",
    "interpreter = tf.lite.Interpreter(model_path=\"models/converted_model.tflite\")\n",
    "interpreter.allocate_tensors()\n",
    "\n",
    "# Function for image preprocessing (single image)\n",
    "def image_preprocessing(filename):\n",
    "    image = tf.io.decode_image(open(filename, 'rb').read(), channels=3)\n",
    "    image = tf.image.resize(image, [150, 150])\n",
    "    image = image / 255.0  # Normalize image\n",
    "    image_tensor = tf.expand_dims(image, 0)  # Add batch dimension\n",
    "    return image_tensor\n",
    "\n",
    "# List of filenames to be processed\n",
    "filenames = [\n",
    "    os.path.join('images', 'curly.jpg'),\n",
    "    os.path.join('images', 'straight.jpg'),\n",
    "    os.path.join('images', 'wavy.jpg'),\n",
    "    os.path.join('images', 'kinky.jpeg'),\n",
    "    os.path.join('images', 'dreadlocks.jpg')\n",
    "]\n",
    "\n",
    "# Get input and output details for TFLite interpreter\n",
    "input_details = interpreter.get_input_details()\n",
    "output_details = interpreter.get_output_details()\n",
    "\n",
    "# Map the predicted classes to labels\n",
    "map_labels = {0: 'Straight', 1: 'Wavy', 2: 'Curly', 3: 'Dreadlocks', 4: 'Kinky'}\n",
    "\n",
    "# Loop through each image, preprocess, and run inference\n",
    "for filename in filenames:\n",
    "    image_tensor = image_preprocessing(filename)\n",
    "\n",
    "    # Set the input tensor with the preprocessed image data\n",
    "    interpreter.set_tensor(input_details[0]['index'], image_tensor.numpy())\n",
    "\n",
    "    # Run inference\n",
    "    interpreter.invoke()\n",
    "\n",
    "    # Get the prediction from the output tensor\n",
    "    prediction = interpreter.get_tensor(output_details[0]['index'])\n",
    "\n",
    "    # Find the class with the highest probability\n",
    "    predicted_class = np.argmax(prediction)\n",
    "    print(f\"Image: {filename}, Predicted class: {map_labels[predicted_class]}\")"
   ]
  }
 ],
 "metadata": {
  "kernelspec": {
   "display_name": ".venv",
   "language": "python",
   "name": "python3"
  },
  "language_info": {
   "codemirror_mode": {
    "name": "ipython",
    "version": 3
   },
   "file_extension": ".py",
   "mimetype": "text/x-python",
   "name": "python",
   "nbconvert_exporter": "python",
   "pygments_lexer": "ipython3",
   "version": "3.9.19"
  }
 },
 "nbformat": 4,
 "nbformat_minor": 2
}
