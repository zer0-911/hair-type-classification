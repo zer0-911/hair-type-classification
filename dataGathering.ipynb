{
 "cells": [
  {
   "cell_type": "markdown",
   "metadata": {},
   "source": [
    "## Data Gathering"
   ]
  },
  {
   "cell_type": "markdown",
   "metadata": {},
   "source": [
    "Import libraries"
   ]
  },
  {
   "cell_type": "code",
   "execution_count": null,
   "metadata": {},
   "outputs": [],
   "source": [
    "import opendatasets as od\n",
    "import pandas as pd\n",
    "import os\n",
    "import matplotlib.pyplot as plt\n",
    "import seaborn as sns\n",
    "from PIL import Image"
   ]
  },
  {
   "cell_type": "markdown",
   "metadata": {},
   "source": [
    "Download datasets"
   ]
  },
  {
   "cell_type": "code",
   "execution_count": null,
   "metadata": {},
   "outputs": [],
   "source": [
    "od.download(\"https://www.kaggle.com/datasets/kavyasreeb/hair-type-dataset\")"
   ]
  },
  {
   "cell_type": "code",
   "execution_count": null,
   "metadata": {},
   "outputs": [],
   "source": [
    "# Move the downloaded dataset to datasets folder\n",
    "os.rename(\"hair-type-dataset\", \"datasets/hair-type-dataset\")"
   ]
  },
  {
   "cell_type": "markdown",
   "metadata": {},
   "source": [
    "## Data Visualization and Exploration"
   ]
  },
  {
   "cell_type": "code",
   "execution_count": null,
   "metadata": {},
   "outputs": [],
   "source": [
    "dataset_path = 'datasets/hair-type-dataset'"
   ]
  },
  {
   "cell_type": "code",
   "execution_count": null,
   "metadata": {},
   "outputs": [],
   "source": [
    "subfolders = [f.name for f in os.scandir(dataset_path) if f.is_dir()]\n",
    "print(\"Subfolders (hair types):\", subfolders)"
   ]
  },
  {
   "cell_type": "code",
   "execution_count": null,
   "metadata": {},
   "outputs": [],
   "source": [
    "# Count the number of images in each subfolder\n",
    "image_counts = {}\n",
    "\n",
    "for subfolder in subfolders:\n",
    "    folder_path = os.path.join(dataset_path, subfolder)\n",
    "    num_images = len([f for f in os.listdir(folder_path) if os.path.isfile(os.path.join(folder_path, f))])\n",
    "    image_counts[subfolder] = num_images"
   ]
  },
  {
   "cell_type": "code",
   "execution_count": null,
   "metadata": {},
   "outputs": [],
   "source": [
    "# Create a DataFrame from the dictionary\n",
    "df = pd.DataFrame(list(image_counts.items()), columns=['Hair Type', 'Image Count'])\n",
    "df"
   ]
  },
  {
   "cell_type": "code",
   "execution_count": null,
   "metadata": {},
   "outputs": [],
   "source": [
    "plt.figure(figsize=(12, 6))\n",
    "\n",
    "plt.subplot(1, 2, 1)\n",
    "sns.barplot(x='Hair Type', y='Image Count', data=df)\n",
    "plt.title('Count of Images per Hair Type')\n",
    "plt.xticks(rotation=45)\n",
    "\n",
    "plt.subplot(1, 2, 2)\n",
    "plt.pie(df['Image Count'], labels=df['Hair Type'], autopct='%1.1f%%', startangle=140)\n",
    "plt.title('Proportion of Images per Hair Type')\n",
    "\n",
    "plt.tight_layout()\n",
    "plt.show()"
   ]
  },
  {
   "cell_type": "code",
   "execution_count": null,
   "metadata": {},
   "outputs": [],
   "source": [
    "def display_images_from_folders(dataset_path, subfolders, num_images=5):\n",
    "    fig, axs = plt.subplots(len(subfolders), num_images, figsize=(15, 3 * len(subfolders)))\n",
    "    \n",
    "    for i, subfolder in enumerate(subfolders):\n",
    "        folder_path = os.path.join(dataset_path, subfolder)\n",
    "        images = [f for f in os.listdir(folder_path) if os.path.isfile(os.path.join(folder_path, f))]\n",
    "        \n",
    "        for j in range(min(num_images, len(images))):\n",
    "            img_path = os.path.join(folder_path, images[j])\n",
    "            img = Image.open(img_path)\n",
    "            axs[i, j].imshow(img)\n",
    "            axs[i, j].axis('off')\n",
    "            if j == 0:\n",
    "                axs[i, j].set_title(subfolder, fontsize=12)\n",
    "    \n",
    "    plt.tight_layout()\n",
    "    plt.show()\n",
    "\n",
    "display_images_from_folders(dataset_path, subfolders, num_images=5)"
   ]
  }
 ],
 "metadata": {
  "kernelspec": {
   "display_name": ".venv",
   "language": "python",
   "name": "python3"
  },
  "language_info": {
   "name": "python",
   "version": "3.9.19"
  }
 },
 "nbformat": 4,
 "nbformat_minor": 2
}
